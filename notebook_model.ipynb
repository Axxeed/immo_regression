{
 "cells": [
  {
   "cell_type": "markdown",
   "id": "32c41516",
   "metadata": {},
   "source": [
    "# Model"
   ]
  },
  {
   "cell_type": "markdown",
   "id": "6d296ff1",
   "metadata": {
    "heading_collapsed": true
   },
   "source": [
    "## Premiere iteration"
   ]
  },
  {
   "cell_type": "code",
   "execution_count": 34,
   "id": "3980831b",
   "metadata": {
    "hidden": true
   },
   "outputs": [],
   "source": [
    "import pandas as pd\n",
    "from sklearn.model_selection import train_test_split\n",
    "from sklearn.linear_model import LinearRegression\n",
    "import warnings\n",
    "from sklearn.metrics import mean_squared_error, mean_squared_error\n",
    "from sklearn.model_selection import KFold, cross_val_score, cross_validate"
   ]
  },
  {
   "cell_type": "code",
   "execution_count": 26,
   "id": "a3d82daf",
   "metadata": {
    "hidden": true
   },
   "outputs": [],
   "source": [
    "df = pd.read_csv(\"train5.csv\")"
   ]
  },
  {
   "cell_type": "code",
   "execution_count": 19,
   "id": "76fee181",
   "metadata": {
    "hidden": true
   },
   "outputs": [
    {
     "data": {
      "text/html": [
       "<div>\n",
       "<style scoped>\n",
       "    .dataframe tbody tr th:only-of-type {\n",
       "        vertical-align: middle;\n",
       "    }\n",
       "\n",
       "    .dataframe tbody tr th {\n",
       "        vertical-align: top;\n",
       "    }\n",
       "\n",
       "    .dataframe thead th {\n",
       "        text-align: right;\n",
       "    }\n",
       "</style>\n",
       "<table border=\"1\" class=\"dataframe\">\n",
       "  <thead>\n",
       "    <tr style=\"text-align: right;\">\n",
       "      <th></th>\n",
       "      <th>Unnamed: 0.1</th>\n",
       "      <th>Unnamed: 0</th>\n",
       "      <th>longitude</th>\n",
       "      <th>latitude</th>\n",
       "      <th>housing_median_age</th>\n",
       "      <th>total_rooms</th>\n",
       "      <th>total_bedrooms</th>\n",
       "      <th>population</th>\n",
       "      <th>households</th>\n",
       "      <th>median_income</th>\n",
       "    </tr>\n",
       "  </thead>\n",
       "  <tbody>\n",
       "    <tr>\n",
       "      <th>3133</th>\n",
       "      <td>3133</td>\n",
       "      <td>19834</td>\n",
       "      <td>-119.39</td>\n",
       "      <td>36.54</td>\n",
       "      <td>34.0</td>\n",
       "      <td>1590.0</td>\n",
       "      <td>422.0</td>\n",
       "      <td>1272.0</td>\n",
       "      <td>407.0</td>\n",
       "      <td>1.8068</td>\n",
       "    </tr>\n",
       "    <tr>\n",
       "      <th>9746</th>\n",
       "      <td>9746</td>\n",
       "      <td>1261</td>\n",
       "      <td>-121.72</td>\n",
       "      <td>38.00</td>\n",
       "      <td>7.0</td>\n",
       "      <td>7957.0</td>\n",
       "      <td>1314.0</td>\n",
       "      <td>4460.0</td>\n",
       "      <td>1293.0</td>\n",
       "      <td>4.9618</td>\n",
       "    </tr>\n",
       "    <tr>\n",
       "      <th>6345</th>\n",
       "      <td>6345</td>\n",
       "      <td>1224</td>\n",
       "      <td>-120.57</td>\n",
       "      <td>38.20</td>\n",
       "      <td>13.0</td>\n",
       "      <td>4110.0</td>\n",
       "      <td>847.0</td>\n",
       "      <td>1796.0</td>\n",
       "      <td>706.0</td>\n",
       "      <td>2.6417</td>\n",
       "    </tr>\n",
       "    <tr>\n",
       "      <th>11350</th>\n",
       "      <td>11350</td>\n",
       "      <td>429</td>\n",
       "      <td>-122.28</td>\n",
       "      <td>37.88</td>\n",
       "      <td>52.0</td>\n",
       "      <td>1193.0</td>\n",
       "      <td>200.0</td>\n",
       "      <td>506.0</td>\n",
       "      <td>207.0</td>\n",
       "      <td>4.1912</td>\n",
       "    </tr>\n",
       "    <tr>\n",
       "      <th>4125</th>\n",
       "      <td>4125</td>\n",
       "      <td>7042</td>\n",
       "      <td>-118.09</td>\n",
       "      <td>33.94</td>\n",
       "      <td>33.0</td>\n",
       "      <td>1976.0</td>\n",
       "      <td>404.0</td>\n",
       "      <td>1379.0</td>\n",
       "      <td>395.0</td>\n",
       "      <td>3.8542</td>\n",
       "    </tr>\n",
       "    <tr>\n",
       "      <th>...</th>\n",
       "      <td>...</td>\n",
       "      <td>...</td>\n",
       "      <td>...</td>\n",
       "      <td>...</td>\n",
       "      <td>...</td>\n",
       "      <td>...</td>\n",
       "      <td>...</td>\n",
       "      <td>...</td>\n",
       "      <td>...</td>\n",
       "      <td>...</td>\n",
       "    </tr>\n",
       "    <tr>\n",
       "      <th>740</th>\n",
       "      <td>740</td>\n",
       "      <td>15727</td>\n",
       "      <td>-122.45</td>\n",
       "      <td>37.78</td>\n",
       "      <td>48.0</td>\n",
       "      <td>1013.0</td>\n",
       "      <td>194.0</td>\n",
       "      <td>464.0</td>\n",
       "      <td>205.0</td>\n",
       "      <td>3.2011</td>\n",
       "    </tr>\n",
       "    <tr>\n",
       "      <th>1032</th>\n",
       "      <td>1032</td>\n",
       "      <td>3591</td>\n",
       "      <td>-118.47</td>\n",
       "      <td>34.25</td>\n",
       "      <td>21.0</td>\n",
       "      <td>2692.0</td>\n",
       "      <td>477.0</td>\n",
       "      <td>1330.0</td>\n",
       "      <td>456.0</td>\n",
       "      <td>4.5417</td>\n",
       "    </tr>\n",
       "    <tr>\n",
       "      <th>5520</th>\n",
       "      <td>5520</td>\n",
       "      <td>20077</td>\n",
       "      <td>-120.35</td>\n",
       "      <td>38.04</td>\n",
       "      <td>16.0</td>\n",
       "      <td>1499.0</td>\n",
       "      <td>326.0</td>\n",
       "      <td>733.0</td>\n",
       "      <td>286.0</td>\n",
       "      <td>2.5729</td>\n",
       "    </tr>\n",
       "    <tr>\n",
       "      <th>3046</th>\n",
       "      <td>3046</td>\n",
       "      <td>7869</td>\n",
       "      <td>-118.13</td>\n",
       "      <td>33.88</td>\n",
       "      <td>32.0</td>\n",
       "      <td>3088.0</td>\n",
       "      <td>1024.0</td>\n",
       "      <td>1981.0</td>\n",
       "      <td>956.0</td>\n",
       "      <td>2.2027</td>\n",
       "    </tr>\n",
       "    <tr>\n",
       "      <th>2915</th>\n",
       "      <td>2915</td>\n",
       "      <td>7139</td>\n",
       "      <td>-118.12</td>\n",
       "      <td>34.02</td>\n",
       "      <td>36.0</td>\n",
       "      <td>1595.0</td>\n",
       "      <td>383.0</td>\n",
       "      <td>1105.0</td>\n",
       "      <td>359.0</td>\n",
       "      <td>2.4286</td>\n",
       "    </tr>\n",
       "  </tbody>\n",
       "</table>\n",
       "<p>13209 rows × 10 columns</p>\n",
       "</div>"
      ],
      "text/plain": [
       "       Unnamed: 0.1  Unnamed: 0  longitude  latitude  housing_median_age  \\\n",
       "3133           3133       19834    -119.39     36.54                34.0   \n",
       "9746           9746        1261    -121.72     38.00                 7.0   \n",
       "6345           6345        1224    -120.57     38.20                13.0   \n",
       "11350         11350         429    -122.28     37.88                52.0   \n",
       "4125           4125        7042    -118.09     33.94                33.0   \n",
       "...             ...         ...        ...       ...                 ...   \n",
       "740             740       15727    -122.45     37.78                48.0   \n",
       "1032           1032        3591    -118.47     34.25                21.0   \n",
       "5520           5520       20077    -120.35     38.04                16.0   \n",
       "3046           3046        7869    -118.13     33.88                32.0   \n",
       "2915           2915        7139    -118.12     34.02                36.0   \n",
       "\n",
       "       total_rooms  total_bedrooms  population  households  median_income  \n",
       "3133        1590.0           422.0      1272.0       407.0         1.8068  \n",
       "9746        7957.0          1314.0      4460.0      1293.0         4.9618  \n",
       "6345        4110.0           847.0      1796.0       706.0         2.6417  \n",
       "11350       1193.0           200.0       506.0       207.0         4.1912  \n",
       "4125        1976.0           404.0      1379.0       395.0         3.8542  \n",
       "...            ...             ...         ...         ...            ...  \n",
       "740         1013.0           194.0       464.0       205.0         3.2011  \n",
       "1032        2692.0           477.0      1330.0       456.0         4.5417  \n",
       "5520        1499.0           326.0       733.0       286.0         2.5729  \n",
       "3046        3088.0          1024.0      1981.0       956.0         2.2027  \n",
       "2915        1595.0           383.0      1105.0       359.0         2.4286  \n",
       "\n",
       "[13209 rows x 10 columns]"
      ]
     },
     "execution_count": 19,
     "metadata": {},
     "output_type": "execute_result"
    }
   ],
   "source": [
    "X = df.drop(['median_house_value'], axis=1)\n",
    "y = df['median_house_value']\n",
    "X_train, X_test, y_train, y_test = train_test_split(X, y, test_size=0.2, random_state=5)\n",
    "X_train"
   ]
  },
  {
   "cell_type": "code",
   "execution_count": 20,
   "id": "e3a715cd",
   "metadata": {
    "hidden": true
   },
   "outputs": [
    {
     "data": {
      "text/plain": [
       "0.6345123014406087"
      ]
     },
     "execution_count": 20,
     "metadata": {},
     "output_type": "execute_result"
    }
   ],
   "source": [
    "# Regression Lineaire avec suppresion de ocean proximity et imputation de la moyenne dans les nan\n",
    "model = LinearRegression()\n",
    "model.fit(X_train, y_train)\n",
    "model.score(X_test, y_test)"
   ]
  },
  {
   "cell_type": "markdown",
   "id": "ab155a21",
   "metadata": {
    "heading_collapsed": true
   },
   "source": [
    "## 2eme iteration"
   ]
  },
  {
   "cell_type": "code",
   "execution_count": 25,
   "id": "c856f1f6",
   "metadata": {
    "hidden": true
   },
   "outputs": [
    {
     "data": {
      "text/plain": [
       "0.6458155371538798"
      ]
     },
     "execution_count": 25,
     "metadata": {},
     "output_type": "execute_result"
    }
   ],
   "source": [
    "X = df.drop(['median_house_value'], axis=1)\n",
    "y = df['median_house_value']\n",
    "X_train, X_test, y_train, y_test = train_test_split(X, y, test_size=0.2, random_state=5)\n",
    "model = LinearRegression()\n",
    "model.fit(X_train, y_train)\n",
    "model.score(X_test, y_test)"
   ]
  },
  {
   "cell_type": "markdown",
   "id": "8f6c6e19",
   "metadata": {
    "heading_collapsed": true
   },
   "source": [
    "## 3 eme iteration"
   ]
  },
  {
   "cell_type": "code",
   "execution_count": 5,
   "id": "93204884",
   "metadata": {
    "hidden": true
   },
   "outputs": [
    {
     "data": {
      "text/plain": [
       "0.6334747864819169"
      ]
     },
     "execution_count": 5,
     "metadata": {},
     "output_type": "execute_result"
    }
   ],
   "source": [
    "X = df.drop(['median_house_value'], axis=1)\n",
    "y = df['median_house_value']\n",
    "X_train, X_test, y_train, y_test = train_test_split(X, y, test_size=0.2, random_state=5)\n",
    "model = LinearRegression()\n",
    "model.fit(X_train, y_train)\n",
    "model.score(X_test, y_test)"
   ]
  },
  {
   "cell_type": "markdown",
   "id": "f2657346",
   "metadata": {
    "heading_collapsed": true
   },
   "source": [
    "## 4 eme iteration (Cross Val)"
   ]
  },
  {
   "cell_type": "code",
   "execution_count": 9,
   "id": "a00bdfe2",
   "metadata": {
    "hidden": true
   },
   "outputs": [
    {
     "name": "stdout",
     "output_type": "stream",
     "text": [
      "Cross Validation Scores:  [0.66028043 0.63989101 0.64644396 0.65145761 0.63403885]\n",
      "Average CV Score:  0.6464223721035633\n",
      "Number of CV Scores used in Average:  5\n"
     ]
    }
   ],
   "source": [
    "from sklearn.model_selection import KFold, cross_val_score\n",
    "\n",
    "X = df.drop(['median_house_value'], axis=1)\n",
    "y = df['median_house_value']\n",
    "\n",
    "LR = LinearRegression()\n",
    "\n",
    "k_folds = KFold(n_splits = 5)\n",
    "\n",
    "scores = cross_val_score(LR, X, y, cv = k_folds)\n",
    "\n",
    "print(\"Cross Validation Scores: \", scores)\n",
    "print(\"Average CV Score: \", scores.mean())\n",
    "print(\"Number of CV Scores used in Average: \", len(scores))"
   ]
  },
  {
   "cell_type": "markdown",
   "id": "d13ac3dd",
   "metadata": {},
   "source": [
    "## 5 eme iteration (Cross Val)"
   ]
  },
  {
   "cell_type": "code",
   "execution_count": 44,
   "id": "31ae4487",
   "metadata": {},
   "outputs": [
    {
     "name": "stdout",
     "output_type": "stream",
     "text": [
      "Cross Validation Scores:  [0.66220015 0.64360628 0.64837529 0.6554827  0.6366265 ]\n",
      "Average CV Score:  0.649258184968855\n",
      "Number of CV Scores used in Average:  5\n",
      "0.649258184968855\n",
      "-68221.42321329117\n"
     ]
    }
   ],
   "source": [
    "X = df.drop(['median_house_value',\"binned_age\"], axis=1)\n",
    "y = df['median_house_value']\n",
    "\n",
    "LR = LinearRegression()\n",
    "\n",
    "k_folds = KFold(n_splits = 5)\n",
    "\n",
    "scores = cross_val_score(LR, X, y, cv = k_folds)\n",
    "\n",
    "print(\"Cross Validation Scores: \", scores)\n",
    "print(\"Average CV Score: \", scores.mean())\n",
    "print(\"Number of CV Scores used in Average: \", len(scores))\n",
    "cv_results = cross_validate(LR, X, y, cv=5, scoring=('r2', 'neg_root_mean_squared_error','neg_mean_absolute_error'))\n",
    "print(cv_results['test_r2'].mean())\n",
    "print(cv_results['test_neg_root_mean_squared_error'].mean())"
   ]
  },
  {
   "cell_type": "code",
   "execution_count": null,
   "id": "99c11aaf",
   "metadata": {},
   "outputs": [],
   "source": [
    "\n"
   ]
  },
  {
   "cell_type": "code",
   "execution_count": null,
   "id": "76c59ce8",
   "metadata": {},
   "outputs": [],
   "source": []
  }
 ],
 "metadata": {
  "kernelspec": {
   "display_name": "Python 3 (ipykernel)",
   "language": "python",
   "name": "python3"
  },
  "language_info": {
   "codemirror_mode": {
    "name": "ipython",
    "version": 3
   },
   "file_extension": ".py",
   "mimetype": "text/x-python",
   "name": "python",
   "nbconvert_exporter": "python",
   "pygments_lexer": "ipython3",
   "version": "3.8.12"
  },
  "toc": {
   "base_numbering": 1,
   "nav_menu": {},
   "number_sections": true,
   "sideBar": true,
   "skip_h1_title": false,
   "title_cell": "Table of Contents",
   "title_sidebar": "Contents",
   "toc_cell": false,
   "toc_position": {},
   "toc_section_display": true,
   "toc_window_display": false
  }
 },
 "nbformat": 4,
 "nbformat_minor": 5
}
