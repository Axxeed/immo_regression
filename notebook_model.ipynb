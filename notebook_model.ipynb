{
 "cells": [
  {
   "cell_type": "markdown",
   "id": "32c41516",
   "metadata": {},
   "source": [
    "# Model"
   ]
  },
  {
   "cell_type": "markdown",
   "id": "6d296ff1",
   "metadata": {},
   "source": [
    "## Premiere iteration"
   ]
  },
  {
   "cell_type": "code",

   "id": "3980831b",
   "metadata": {},
   "outputs": [],
   "source": [
    "import pandas as pd\n",
    "from sklearn.model_selection import train_test_split\n",
    "from sklearn.linear_model import LinearRegression\n",
    "import warnings\n",
    "from sklearn.metrics import mean_squared_error, mean_squared_error\n",
    "from sklearn.model_selection import KFold, cross_val_score, cross_validate\n",
    "import seaborn as sns\n",
    "import statsmodels.api as sm\n",
    "import matplotlib.pyplot as plt\n",
    "import numpy as np"
   ]
  },
  {
   "cell_type": "code",

   "id": "a3d82daf",
   "metadata": {},
   "outputs": [],
   "source": [

   ]
  },
  {
   "cell_type": "code",
   "execution_count": 118,
   "id": "76fee181",
   "metadata": {},
   "id": "31ae4487",
   "metadata": {},
   "outputs": [
    {
     "name": "stdout",
     "output_type": "stream",
     "text": [
      "Cross Validation Scores:  [0.66220015 0.64360628 0.64837529 0.6554827  0.6366265 ]\n",
      "Average CV Score:  0.6492581849688521\n",
      "Number of CV Scores used in Average:  5\n",
      "0.6492581849688521\n",
      "-68221.42321329145\n"
     ]
    }
   ],
   "source": [
    "X = df.drop(['median_house_value'], axis=1)\n",
    "y = df['median_house_value']\n",
    "\n",
    "LR = LinearRegression()\n",
    "\n",
    "k_folds = KFold(n_splits = 5)\n",
    "\n",
    "scores = cross_val_score(LR, X, y, cv = k_folds)\n",
    "\n",
    "print(\"Cross Validation Scores: \", scores)\n",
    "print(\"Average CV Score: \", scores.mean())\n",
    "print(\"Number of CV Scores used in Average: \", len(scores))\n",
    "cv_results = cross_validate(LR, X, y, cv=5, scoring=('r2', 'neg_root_mean_squared_error','neg_mean_absolute_error'))\n",
    "print(cv_results['test_r2'].mean())\n",
    "print(cv_results['test_neg_root_mean_squared_error'].mean())"
   ]
  },
  {
   "cell_type": "markdown",

   "metadata": {},
   "source": [
    "## 6 eme iteration"
   ]
  },
  {
   "cell_type": "code",

   "id": "76c59ce8",
   "metadata": {},
   "outputs": [
    {
     "name": "stdout",
     "output_type": "stream",
     "text": [

   "metadata": {},
   "outputs": [],
   "source": []
  }
 ],
 "metadata": {
  "kernelspec": {
   "display_name": "Python 3 (ipykernel)",
   "language": "python",
   "name": "python3"
  },
  "language_info": {
   "codemirror_mode": {
    "name": "ipython",
    "version": 3
   },
   "file_extension": ".py",
   "mimetype": "text/x-python",
   "name": "python",
   "nbconvert_exporter": "python",
   "pygments_lexer": "ipython3",
   "version": "3.8.12"
  },
  "toc": {
   "base_numbering": 1,
   "nav_menu": {},
   "number_sections": true,
   "sideBar": true,
   "skip_h1_title": false,
   "title_cell": "Table of Contents",
   "title_sidebar": "Contents",
   "toc_cell": false,
   "toc_position": {},
   "toc_section_display": true,
   "toc_window_display": false
  }
 },
 "nbformat": 4,
 "nbformat_minor": 5
}
